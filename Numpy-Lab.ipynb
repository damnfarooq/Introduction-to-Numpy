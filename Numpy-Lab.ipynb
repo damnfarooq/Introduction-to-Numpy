{
 "cells": [
  {
   "cell_type": "markdown",
   "metadata": {},
   "source": [
    "# <h1 align='center' >Computer Application in Engineering Design Lab</h1>\n",
    "<h2 align='center' >Lab 12, BCE Fall 2021</h2>\n",
    "<h3 align='left' >Instructor: Muhammad Farooq Khan</h3>\n",
    "<h4>Date: 13-Dec-2021</h4>"
   ]
  },
  {
   "cell_type": "markdown",
   "metadata": {},
   "source": [
    "### Numpy"
   ]
  },
  {
   "cell_type": "code",
   "execution_count": 1,
   "metadata": {},
   "outputs": [],
   "source": [
    "import numpy as np # imports a fast numerical programming library"
   ]
  },
  {
   "cell_type": "code",
   "execution_count": 2,
   "metadata": {},
   "outputs": [
    {
     "name": "stdout",
     "output_type": "stream",
     "text": [
      "[1 2 3]\n"
     ]
    }
   ],
   "source": [
    "x = np.array([1,2,3])     #1d array\n",
    "print(x)"
   ]
  },
  {
   "cell_type": "code",
   "execution_count": 3,
   "metadata": {},
   "outputs": [
    {
     "name": "stdout",
     "output_type": "stream",
     "text": [
      "[[1 2 3]\n",
      " [4 5 6]]\n"
     ]
    },
    {
     "data": {
      "text/plain": [
       "(2, 3)"
      ]
     },
     "execution_count": 3,
     "metadata": {},
     "output_type": "execute_result"
    }
   ],
   "source": [
    "x = np.array([[1,2,3],[4,5,6]])    #2d array\n",
    "print(x)\n",
    "x.shape"
   ]
  },
  {
   "cell_type": "code",
   "execution_count": 4,
   "metadata": {},
   "outputs": [
    {
     "name": "stdout",
     "output_type": "stream",
     "text": [
      "[0.  0.5 1.  1.5 2.  2.5 3.  3.5 4.  4.5 5.  5.5 6.  6.5 7.  7.5 8.  8.5\n",
      " 9.  9.5]\n"
     ]
    },
    {
     "data": {
      "text/plain": [
       "(20,)"
      ]
     },
     "execution_count": 4,
     "metadata": {},
     "output_type": "execute_result"
    }
   ],
   "source": [
    "x = np.arange(0,10,0.5)\n",
    "print(x)\n",
    "x.shape   # shape should have been (20,1)"
   ]
  },
  {
   "cell_type": "code",
   "execution_count": 5,
   "metadata": {},
   "outputs": [
    {
     "data": {
      "text/plain": [
       "(20, 1)"
      ]
     },
     "execution_count": 5,
     "metadata": {},
     "output_type": "execute_result"
    }
   ],
   "source": [
    "# .shape[0] gives rows which is 20 above\n",
    "# .shape[1] gives columns\n",
    "\n",
    "\n",
    "x = x.reshape(x.shape[0],1)   # solve the above issue\n",
    "x.shape    "
   ]
  },
  {
   "cell_type": "code",
   "execution_count": 6,
   "metadata": {},
   "outputs": [
    {
     "name": "stdout",
     "output_type": "stream",
     "text": [
      "[0.   0.25 0.5  0.75 1.   1.25 1.5  1.75 2.  ]\n"
     ]
    },
    {
     "data": {
      "text/plain": [
       "(9,)"
      ]
     },
     "execution_count": 6,
     "metadata": {},
     "output_type": "execute_result"
    }
   ],
   "source": [
    "x = np.linspace(0,2,9)    #Add evenly spaced values btw interval to array of length\n",
    "print(x)\n",
    "x.shape"
   ]
  },
  {
   "cell_type": "code",
   "execution_count": 7,
   "metadata": {},
   "outputs": [
    {
     "data": {
      "text/plain": [
       "(9, 1)"
      ]
     },
     "execution_count": 7,
     "metadata": {},
     "output_type": "execute_result"
    }
   ],
   "source": [
    "x = np.linspace(0,2,9).reshape(9,1)    #can directly solve the dimension issue\n",
    "x.shape"
   ]
  },
  {
   "cell_type": "code",
   "execution_count": 8,
   "metadata": {},
   "outputs": [
    {
     "name": "stdout",
     "output_type": "stream",
     "text": [
      "[[0. 0.]]\n"
     ]
    },
    {
     "data": {
      "text/plain": [
       "(1, 2)"
      ]
     },
     "execution_count": 8,
     "metadata": {},
     "output_type": "execute_result"
    }
   ],
   "source": [
    "# by default numpy stores float values check the output\n",
    "\n",
    "x = np.zeros((1,2))    \n",
    "print(x)\n",
    "x.shape"
   ]
  },
  {
   "cell_type": "code",
   "execution_count": 9,
   "metadata": {},
   "outputs": [
    {
     "name": "stdout",
     "output_type": "stream",
     "text": [
      "[[0 0]]\n"
     ]
    },
    {
     "data": {
      "text/plain": [
       "(1, 2)"
      ]
     },
     "execution_count": 9,
     "metadata": {},
     "output_type": "execute_result"
    }
   ],
   "source": [
    "# lets make the numpy array of integer zeros\n",
    "\n",
    "x = np.zeros((1,2), dtype = int)    \n",
    "print(x)\n",
    "x.shape"
   ]
  },
  {
   "cell_type": "code",
   "execution_count": 10,
   "metadata": {},
   "outputs": [
    {
     "name": "stdout",
     "output_type": "stream",
     "text": [
      "[[0.14703104 0.83628032 0.60617322 0.50920102 0.8822448 ]\n",
      " [0.34749602 0.18419787 0.06943319 0.22150591 0.8086058 ]\n",
      " [0.65811918 0.42867931 0.66603412 0.89158926 0.41300885]\n",
      " [0.76394703 0.50050163 0.4949355  0.24839298 0.71107276]\n",
      " [0.93000557 0.31730975 0.52812487 0.25065313 0.25423794]]\n"
     ]
    },
    {
     "data": {
      "text/plain": [
       "(5, 5)"
      ]
     },
     "execution_count": 10,
     "metadata": {},
     "output_type": "execute_result"
    }
   ],
   "source": [
    "# Creates random array of specified dimensions \n",
    "\n",
    "x = np.random.random((5,5))\n",
    "print(x)\n",
    "x.shape"
   ]
  },
  {
   "cell_type": "code",
   "execution_count": 11,
   "metadata": {},
   "outputs": [
    {
     "name": "stdout",
     "output_type": "stream",
     "text": [
      "[[0 0]\n",
      " [0 0]]\n"
     ]
    },
    {
     "data": {
      "text/plain": [
       "(2, 2)"
      ]
     },
     "execution_count": 11,
     "metadata": {},
     "output_type": "execute_result"
    }
   ],
   "source": [
    "# Creates an empty array of specified dimensions\n",
    "\n",
    "x = np.empty((2,2), dtype = int)\n",
    "print(x)\n",
    "x.shape"
   ]
  },
  {
   "cell_type": "code",
   "execution_count": 12,
   "metadata": {},
   "outputs": [
    {
     "name": "stdout",
     "output_type": "stream",
     "text": [
      "[[0 0]\n",
      " [0 0]]\n"
     ]
    },
    {
     "data": {
      "text/plain": [
       "(2, 2)"
      ]
     },
     "execution_count": 12,
     "metadata": {},
     "output_type": "execute_result"
    }
   ],
   "source": [
    "x = np.empty((2,2), dtype = int)\n",
    "print(x)\n",
    "x.shape"
   ]
  },
  {
   "cell_type": "code",
   "execution_count": 13,
   "metadata": {},
   "outputs": [
    {
     "data": {
      "text/plain": [
       "3"
      ]
     },
     "execution_count": 13,
     "metadata": {},
     "output_type": "execute_result"
    }
   ],
   "source": [
    "# it finds the lentgh of array\n",
    "x = np.array([1,3,6])\n",
    "len(x) "
   ]
  },
  {
   "cell_type": "code",
   "execution_count": 14,
   "metadata": {},
   "outputs": [
    {
     "data": {
      "text/plain": [
       "1"
      ]
     },
     "execution_count": 14,
     "metadata": {},
     "output_type": "execute_result"
    }
   ],
   "source": [
    "x = np.array([[1,3,6]])\n",
    "len(x)   \n",
    "# notice the change for 2D array, it count the number of rows"
   ]
  },
  {
   "cell_type": "code",
   "execution_count": 15,
   "metadata": {},
   "outputs": [],
   "source": [
    "# lentgh is important when you dont know the size of vector and you want to use for loop on a complete array\n",
    "# so we use len(x) as an for loop upper limit"
   ]
  },
  {
   "cell_type": "code",
   "execution_count": 16,
   "metadata": {},
   "outputs": [
    {
     "name": "stdout",
     "output_type": "stream",
     "text": [
      "[[0. 0.]]\n",
      "[[0 0]]\n"
     ]
    }
   ],
   "source": [
    "x = np.zeros((1,2)) # float type array\n",
    "print(x)\n",
    "x = x.astype(int)    # convert to int\n",
    "print(x)"
   ]
  },
  {
   "cell_type": "code",
   "execution_count": 17,
   "metadata": {},
   "outputs": [
    {
     "name": "stdout",
     "output_type": "stream",
     "text": [
      "[[1 2 3]\n",
      " [4 5 6]]\n"
     ]
    }
   ],
   "source": [
    "# Creates copy of array\n",
    "x = np.array([[1,2,3],[4,5,6]])\n",
    "y = np.copy(x)\n",
    "print(y)"
   ]
  },
  {
   "cell_type": "code",
   "execution_count": 18,
   "metadata": {},
   "outputs": [
    {
     "name": "stdout",
     "output_type": "stream",
     "text": [
      "[1 2 3 5]\n"
     ]
    }
   ],
   "source": [
    "x = np.array([1,2,3])\n",
    "x = np.append(x,5)\n",
    "print(x)"
   ]
  },
  {
   "cell_type": "code",
   "execution_count": 19,
   "metadata": {},
   "outputs": [
    {
     "name": "stdout",
     "output_type": "stream",
     "text": [
      "[1 2 3 1 2 3 4 5 6]\n"
     ]
    },
    {
     "data": {
      "text/plain": [
       "(9,)"
      ]
     },
     "execution_count": 19,
     "metadata": {},
     "output_type": "execute_result"
    }
   ],
   "source": [
    "x = np.array([1,2,3])\n",
    "y = np.array([[1,2,3],[4,5,6]])\n",
    "x = np.append(x,y)\n",
    "print(x)\n",
    "x.shape"
   ]
  },
  {
   "cell_type": "code",
   "execution_count": 20,
   "metadata": {},
   "outputs": [
    {
     "name": "stdout",
     "output_type": "stream",
     "text": [
      "[[1 2 3 1 2 3 4 5 6]]\n"
     ]
    },
    {
     "data": {
      "text/plain": [
       "(1, 9)"
      ]
     },
     "execution_count": 20,
     "metadata": {},
     "output_type": "execute_result"
    }
   ],
   "source": [
    "y = x.reshape(1,x.shape[0])    \n",
    "print(y)\n",
    "y.shape"
   ]
  },
  {
   "cell_type": "code",
   "execution_count": 21,
   "metadata": {},
   "outputs": [
    {
     "name": "stdout",
     "output_type": "stream",
     "text": [
      "[[1 2 3 1 2 3 4 5 6]]\n",
      "[[1 2 3 2 3 4 5 6]]\n"
     ]
    }
   ],
   "source": [
    "print(y)\n",
    "y = np.delete(y,3,axis=1)   # delete 3rd index or 4th value\n",
    "print(y)"
   ]
  },
  {
   "cell_type": "code",
   "execution_count": 22,
   "metadata": {},
   "outputs": [
    {
     "name": "stdout",
     "output_type": "stream",
     "text": [
      "[[1 2 3]]\n",
      " \n",
      "[[1 2 3]\n",
      " [4 5 6]]\n",
      " \n",
      "[[1 2 3]\n",
      " [1 2 3]\n",
      " [4 5 6]]\n"
     ]
    }
   ],
   "source": [
    "# concatenating 2D arrays with only 2D and 1D array with only 1D array\n",
    "\n",
    "x = np.array([[1,2,3]])\n",
    "y = np.array([[1,2,3],[4,5,6]])\n",
    "print(x)\n",
    "print(\" \")\n",
    "print(y)\n",
    "print(\" \")\n",
    "z = np.concatenate((x,y),axis=0)\n",
    "print(z)"
   ]
  },
  {
   "cell_type": "code",
   "execution_count": 23,
   "metadata": {},
   "outputs": [
    {
     "name": "stdout",
     "output_type": "stream",
     "text": [
      "[[1 5 3]]\n",
      " \n",
      "[[1 2 3]\n",
      " [4 5 6]]\n",
      " \n",
      "[[1 5 3]\n",
      " [1 2 3]\n",
      " [4 5 6]]\n"
     ]
    }
   ],
   "source": [
    "# stack arrays vertically, remember number of columns should be same\n",
    "\n",
    "x = np.array([[1,5,3]])\n",
    "y = np.array([[1,2,3],[4,5,6]])\n",
    "print(x)\n",
    "print(\" \")\n",
    "print(y)\n",
    "print(\" \")\n",
    "z = np.vstack((x,y))\n",
    "print(z)"
   ]
  },
  {
   "cell_type": "code",
   "execution_count": 24,
   "metadata": {},
   "outputs": [
    {
     "name": "stdout",
     "output_type": "stream",
     "text": [
      "[[1 5 3]\n",
      " [4 7 0]]\n",
      " \n",
      "[[9 2 3]\n",
      " [4 5 6]]\n",
      " \n",
      "[[1 5 3 9 2 3]\n",
      " [4 7 0 4 5 6]]\n"
     ]
    }
   ],
   "source": [
    "# stack arrays horizontally, remember number of rows should be same\n",
    "\n",
    "x = np.array([[1,5,3],[4,7,0]])\n",
    "y = np.array([[9,2,3],[4,5,6]])\n",
    "print(x)\n",
    "print(\" \")\n",
    "print(y)\n",
    "print(\" \")\n",
    "z = np.hstack((x,y))\n",
    "print(z)"
   ]
  },
  {
   "cell_type": "code",
   "execution_count": 25,
   "metadata": {},
   "outputs": [
    {
     "name": "stdout",
     "output_type": "stream",
     "text": [
      "[1 5 3 4 7 0]\n"
     ]
    }
   ],
   "source": [
    "# Flattens a 2d array to 1d\n",
    "\n",
    "x = np.array([[1,5,3],[4,7,0]])\n",
    "y = x.flatten()\n",
    "print(y)"
   ]
  },
  {
   "cell_type": "code",
   "execution_count": 26,
   "metadata": {},
   "outputs": [
    {
     "name": "stdout",
     "output_type": "stream",
     "text": [
      "(2, 3)\n",
      "\n",
      "(3, 2)\n"
     ]
    }
   ],
   "source": [
    "# transpose\n",
    "\n",
    "x = np.array([[1,5,3],[4,7,0]])\n",
    "print(x.shape)\n",
    "print(\"\")\n",
    "x = x.T\n",
    "print(x.shape)"
   ]
  },
  {
   "cell_type": "code",
   "execution_count": 27,
   "metadata": {},
   "outputs": [
    {
     "name": "stdout",
     "output_type": "stream",
     "text": [
      "[[-0.53846154  0.38461538]\n",
      " [ 0.30769231 -0.07692308]]\n"
     ]
    }
   ],
   "source": [
    "x = np.array([[1,5],[4,7]])\n",
    "inverse = np.linalg.inv(x)\n",
    "print(inverse)"
   ]
  },
  {
   "cell_type": "markdown",
   "metadata": {},
   "source": [
    "np.add(x,y)\n",
    "x + y\tAddition\n",
    "\n",
    "\n",
    "np.substract(x,y)\n",
    "x - y\tSubtraction\n",
    "\n",
    "np.divide(x,y)\n",
    "x / y\tDivision\n",
    "\n",
    "np.multiply(x,y)\n",
    "x @ y\tMultiplication\n",
    "\n",
    "np.sqrt(x)\tSquare Root\n",
    "\n",
    "np.sin(x)\tElement-wise sine\n",
    "\n",
    "np.cos(x)\tElement-wise cosine\n",
    "\n",
    "np.log(x)\tElement-wise natural log\n",
    "\n",
    "np.dot(x,y)\tDot product\n",
    "\n",
    "np.roots([1,0,-4])\tRoots of a given polynomial coefficients"
   ]
  },
  {
   "cell_type": "markdown",
   "metadata": {},
   "source": [
    "np.mean(array)\tMean\n",
    "\n",
    "np.median(array)\tMedian\n",
    "\n",
    "np.std(array)\tStandard Deviation"
   ]
  },
  {
   "cell_type": "markdown",
   "metadata": {},
   "source": [
    "array.sum()\tArray-wise sum\n",
    "\n",
    "array.min()\tArray-wise minimum value\n",
    "\n",
    "array.max(axis=0)\tMaximum value of specified axis\n",
    "\n",
    "array.cumsum(axis=0)\tCumulative sum of specified axis"
   ]
  },
  {
   "cell_type": "markdown",
   "metadata": {},
   "source": [
    "array[i]\t1d array at index i\n",
    "\n",
    "array[i,j]\t2d array at index[i][j]\n",
    "\n",
    "\n",
    "array[0:3]\tSelect items of index 0, 1 and 2\n",
    "\n",
    "array[0:2,1]\tSelect items of rows 0 and 1 at column 1\n",
    "\n",
    "array[:1]\tSelect items of row 0 (equals array[0:1, :])\n",
    "\n",
    "array[1:2, :]\tSelect items of row 1"
   ]
  }
 ],
 "metadata": {
  "kernelspec": {
   "display_name": "Python 3 (ipykernel)",
   "language": "python",
   "name": "python3"
  },
  "language_info": {
   "codemirror_mode": {
    "name": "ipython",
    "version": 3
   },
   "file_extension": ".py",
   "mimetype": "text/x-python",
   "name": "python",
   "nbconvert_exporter": "python",
   "pygments_lexer": "ipython3",
   "version": "3.9.7"
  }
 },
 "nbformat": 4,
 "nbformat_minor": 4
}
